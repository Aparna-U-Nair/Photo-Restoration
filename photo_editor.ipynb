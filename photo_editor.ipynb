{
 "cells": [
  {
   "cell_type": "code",
   "execution_count": 2,
   "metadata": {},
   "outputs": [],
   "source": [
    "import cv2\n",
    "import numpy as np\n",
    "import matplotlib.pyplot as plt\n",
    "%matplotlib inline"
   ]
  },
  {
   "cell_type": "code",
   "execution_count": 18,
   "metadata": {},
   "outputs": [],
   "source": [
    "#Load the damaged photo\n",
    "img = cv2.imread(\"./images/abraham.jpg\")\n",
    "cv2.imshow(\"Real\",img)\n",
    "\n",
    "# Pic with damaged areas being marked\n",
    "marked = cv2.imread(\"./images/mask.jpg\",0)\n",
    "# cv2.imshow(\"Marked\",marked)\n",
    "\n",
    "#Mask out all colors of the image that are not white to black\n",
    "_, thresh = cv2.threshold(marked,254,255,cv2.THRESH_BINARY)\n",
    "# cv2.imshow(\"Thresh\",thresh)\n",
    "\n",
    "#Dilate the marks in thresh\n",
    "kernel = np.ones((7,7),np.uint8)\n",
    "dil = cv2.dilate(thresh,kernel, iterations = 2)\n",
    "cv2.imshow(\"Dilated\",dil)\n",
    "\n",
    "res= cv2.inpaint(img, gray, 3, cv2.INPAINT_TELEA)\n",
    "cv2.imshow(\"Final\", res)\n",
    "cv2.waitKey(0)\n",
    "cv2.destroyAllWindows()"
   ]
  },
  {
   "cell_type": "code",
   "execution_count": null,
   "metadata": {},
   "outputs": [],
   "source": []
  }
 ],
 "metadata": {
  "kernelspec": {
   "display_name": "Python 3",
   "language": "python",
   "name": "python3"
  },
  "language_info": {
   "codemirror_mode": {
    "name": "ipython",
    "version": 3
   },
   "file_extension": ".py",
   "mimetype": "text/x-python",
   "name": "python",
   "nbconvert_exporter": "python",
   "pygments_lexer": "ipython3",
   "version": "3.7.4"
  }
 },
 "nbformat": 4,
 "nbformat_minor": 2
}
